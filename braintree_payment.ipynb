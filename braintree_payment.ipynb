curl 'https://self.commercelayer.io/oauth/token' \
  -X 'OPTIONS' \
  -H 'authority: self.commercelayer.io' \
  -H 'accept: */*' \
  -H 'access-control-request-method: POST' \
  -H 'access-control-request-headers: content-type' \
  -H 'origin: https://checkout.seanobrien.art' \
  -H 'user-agent: Mozilla/5.0 (Windows NT 10.0; Win64; x64) AppleWebKit/537.36 (KHTML, like Gecko) Chrome/91.0.4472.114 Safari/537.36 Edg/91.0.864.54' \
  -H 'sec-fetch-mode: cors' \
  -H 'sec-fetch-site: cross-site' \
  -H 'sec-fetch-dest: empty' \
  -H 'referer: https://checkout.seanobrien.art/' \
  -H 'accept-language: en-US,en;q=0.9' \
  --compressed

# curl -X GET \
#   http://yourdomain.commercelayer.io/api/orders/BwAezhyOQw?include=payment_method \
#   -H 'Authorization: Bearer your-access-token' \
#   -H 'Accept: application/vnd.api+json'